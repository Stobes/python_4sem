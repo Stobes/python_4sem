{
 "cells": [
  {
   "cell_type": "code",
   "execution_count": 3,
   "metadata": {},
   "outputs": [],
   "source": [
    "##\"Dataset = 'https://think.cs.vt.edu/corgis/datasets/csv/cars/cars.csv'\n",
    "##Reducer datasettet til Honda'er med benzinmotor\n",
    "##Lav linear regression på hestekræfter og highway MPG hvor x er hestekræfter og y er MPG\n",
    "##Hvad er koefficienten?\n",
    "##Tegn dataen i et scatterplot med regressions ligningen\n",
    "##Hvad vil MPG være når en motor har 200 hestekræfter? \""
   ]
  },
  {
   "cell_type": "code",
   "execution_count": 39,
   "metadata": {},
   "outputs": [],
   "source": [
    "import csv\n",
    "import numpy as np\n",
    "import matplotlib.pyplot as plt\n",
    "import sklearn.linear_model"
   ]
  },
  {
   "cell_type": "code",
   "execution_count": 24,
   "metadata": {},
   "outputs": [],
   "source": [
    "file = open(\"Cars.csv\")\n",
    "csvreader = csv.reader(file)\n",
    "header = next(csvreader)\n",
    "rows = []\n",
    "for row in csvreader:\n",
    "    rows.append(row)\n",
    "file.close()"
   ]
  },
  {
   "cell_type": "code",
   "execution_count": 84,
   "metadata": {},
   "outputs": [
    {
     "name": "stdout",
     "output_type": "stream",
     "text": [
      "koefficienten er : -0.07063132872097672\n",
      "ved 200 hestekrafter er MPG  21.22198521242197\n"
     ]
    },
    {
     "data": {
      "image/png": "[encoded data removed]",
      "text/plain": [
       "<Figure size 432x288 with 1 Axes>"
      ]
     },
     "metadata": {
      "needs_background": "light"
     },
     "output_type": "display_data"
    }
   ],
   "source": [
    "data = np.array(rows)\n",
    "make_mask = (data[:,13] == 'Honda') & (data[:,9] == 'Gasoline')\n",
    "\n",
    "x = data[make_mask][:,16]\n",
    "y = data[make_mask][:,8]\n",
    "\n",
    "x = x.astype(np.float64)\n",
    "y = y.astype(np.float64)\n",
    "\n",
    "x_reshape = np.array(x).reshape(-1,1)\n",
    "y_reshape = np.array(y).reshape(-1,1)\n",
    "\n",
    "model = sklearn.linear_model.LinearRegression()\n",
    "model.fit(x_reshape, y_reshape)\n",
    "\n",
    "\n",
    "\n",
    "coef = model.coef_[0][0]\n",
    "intercept = model.intercept_[0]\n",
    "\n",
    "prediction = model.predict([[200]])\n",
    "\n",
    "\n",
    "plt.plot(x_reshape, y_reshape, 'o')\n",
    "plt.plot(x, coef * x + intercept)\n",
    "\n",
    "print(\"koefficienten er :\",model.coef_[0][0])\n",
    "print(\"ved 200 hestekrafter er MPG \",prediction[0][0])"
   ]
  }
 ],
 "metadata": {
  "kernelspec": {
   "display_name": "Python 3",
   "language": "python",
   "name": "python3"
  },
  "language_info": {
   "codemirror_mode": {
    "name": "ipython",
    "version": 3
   },
   "file_extension": ".py",
   "mimetype": "text/x-python",
   "name": "python",
   "nbconvert_exporter": "python",
   "pygments_lexer": "ipython3",
   "version": "3.7.6"
  }
 },
 "nbformat": 4,
 "nbformat_minor": 4
}
