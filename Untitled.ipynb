{
 "cells": [
  {
   "cell_type": "code",
   "execution_count": 1,
   "metadata": {},
   "outputs": [],
   "source": [
    "import matplotlib.pyplot as plt\n",
    "import numpy as np\n",
    "import pandas as pd"
   ]
  },
  {
   "cell_type": "code",
   "execution_count": 4,
   "metadata": {},
   "outputs": [],
   "source": [
    "#\"Download datasettet fra dette link.\n",
    "#https://www.kaggle.com/sanjeetsinghnaik/top-1000-highest-grossing-movies \n",
    "\n",
    "#1. Find the top 10 highest grossing Disney movies measured by world sales\n",
    "\n",
    "#2. Create a pie chart that shows the distribution of Licenses (PG, R, M and so on)\n",
    "\n",
    "#3. Get the percentage of PG rated movies between 2001 and 2015\n",
    "\n",
    "#4. Calculate the average of world sales for each genre and visualize the data with a bar chart. (Hint: use groupBy)\n",
    "#\""
   ]
  },
  {
   "cell_type": "code",
   "execution_count": null,
   "metadata": {},
   "outputs": [],
   "source": [
    "filename = 'Highest Holywood Grossing Movies.csv'\n",
    "movies_df = np.genfromtxt(filename, delimiter=',', skip_header=1)"
   ]
  },
  {
   "cell_type": "code",
   "execution_count": null,
   "metadata": {},
   "outputs": [],
   "source": []
  }
 ],
 "metadata": {
  "kernelspec": {
   "display_name": "Python 3",
   "language": "python",
   "name": "python3"
  },
  "language_info": {
   "codemirror_mode": {
    "name": "ipython",
    "version": 3
   },
   "file_extension": ".py",
   "mimetype": "text/x-python",
   "name": "python",
   "nbconvert_exporter": "python",
   "pygments_lexer": "ipython3",
   "version": "3.7.6"
  }
 },
 "nbformat": 4,
 "nbformat_minor": 4
}
