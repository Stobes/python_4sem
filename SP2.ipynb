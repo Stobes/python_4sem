{
 "cells": [
  {
   "cell_type": "code",
   "execution_count": 46,
   "metadata": {},
   "outputs": [],
   "source": [
    "import bs4\n",
    "import requests\n",
    "import numpy as np"
   ]
  },
  {
   "cell_type": "code",
   "execution_count": 144,
   "metadata": {},
   "outputs": [],
   "source": [
    "#DEL 1\n",
    "r = requests.get('https://www.komplett.dk/category/21064/mobil/mobiltelefoner')\n",
    "r.raise_for_status()\n",
    "soup = bs4.BeautifulSoup(r.text, 'html.parser')\n",
    "\n",
    "span_elem = soup.select('span')\n",
    "\n",
    "##print(span_elem.get('class'))\n",
    "\n",
    "elems_price = soup.findAll('span',{'class':'product-price-now'})\n",
    "\n",
    "elems_name = soup.findAll('div',{'class':'text-content'})\n",
    "elems_name = soup.select('div[class=text-content] > h2')\n",
    "\n",
    "price_names = [(price.getText(),names.getText()) for price in elems_price for names in elems_name]\n",
    "\n"
   ]
  },
  {
   "cell_type": "code",
   "execution_count": 154,
   "metadata": {},
   "outputs": [
    {
     "data": {
      "text/plain": [
       "<function matplotlib.pyplot.show(*args, **kw)>"
      ]
     },
     "execution_count": 154,
     "metadata": {},
     "output_type": "execute_result"
    },
    {
     "data": {
      "image/png": "[encoded data removed]",
      "text/plain": [
       "<Figure size 432x288 with 1 Axes>"
      ]
     },
     "metadata": {
      "needs_background": "light"
     },
     "output_type": "display_data"
    }
   ],
   "source": [
    "#DEL 2\n",
    "%matplotlib notebook\n",
    "%matplotlib inline\n",
    "import matplotlib as mpl\n",
    "import matplotlib.pyplot as plt\n",
    "\n",
    "price_make = [(int(key[:-2].replace('.','')),value.split()[0]) for key,value in price_names if 'Samsung' in value or 'iPhone' in value]\n",
    "\n",
    "\n",
    "data = np.array(price_make)\n",
    "##print(data)\n",
    "sam_mask = (data[:,1] == 'Samsung')\n",
    "ip_mask = (data[:,1] == 'iPhone')\n",
    "\n",
    "\n",
    "sam_prices = np.array(data[sam_mask][:,0])\n",
    "sam_prices = sam_prices.astype(int)\n",
    "\n",
    "\n",
    "ip_prices = np.array(data[ip_mask][:,0])\n",
    "ip_prices = ip_prices.astype(int)\n",
    "\n",
    "\n",
    "avg_sam = np.sum(sam_prices)/sam_prices.size\n",
    "avg_ip = np.sum(ip_prices)/ip_prices.size\n",
    "\n",
    "plt.bar(['Samsung'],avg_sam, width=0.5,align='center')\n",
    "plt.bar(['iPhone'],avg_ip,width=0.5,align='center')\n",
    "plt.show\n",
    "\n",
    "#har ingen ide om hvorfor at gennemsnits priserne er identisk.."
   ]
  },
  {
   "cell_type": "code",
   "execution_count": 152,
   "metadata": {},
   "outputs": [
    {
     "name": "stdout",
     "output_type": "stream",
     "text": [
      "[]\n",
      "[]\n",
      "[]\n"
     ]
    }
   ],
   "source": [
    "#DEL 3\n",
    "\n",
    "_r = requests.get('https://www.telia.dk/privat/webshop/mobiler/?page=4')\n",
    "_r.raise_for_status()\n",
    "_soup = bs4.BeautifulSoup(_r.text, 'html.parser')\n",
    "\n",
    "span_elem = _soup.findAll('div',{'class':'cm-c-product-card-simple__top'})\n",
    "print(span_elem)\n",
    "##print(span_elem.get('class'))\n",
    "\n",
    "\n",
    "\n",
    "##tel_elems_price = _soup.findAll('span',{'class':'cm-c-product-card-simple__bottom'})\n",
    "##tel_elems_price = soup.select('div[class=cm-c-product-card-simple__bottom] > p > span')\n",
    "\n",
    "##print(tel_elems_price)\n",
    "\n",
    "tel_elems_name = _soup.findAll('div',{'class':'cm-c-product-card-simple__top'})\n",
    "tel_elems_name = _soup.select('div[class=cm-c-product-card-simple__brand] > p')\n",
    "print(tel_elems_name)\n",
    "\n",
    "tel_price_names = [(price.getText(),names.getText()) for price in tel_elems_price for names in tel_elems_name]\n",
    "print(tel_price_names)\n",
    "\n",
    "#for ingen data ud?"
   ]
  }
 ],
 "metadata": {
  "kernelspec": {
   "display_name": "Python 3",
   "language": "python",
   "name": "python3"
  },
  "language_info": {
   "codemirror_mode": {
    "name": "ipython",
    "version": 3
   },
   "file_extension": ".py",
   "mimetype": "text/x-python",
   "name": "python",
   "nbconvert_exporter": "python",
   "pygments_lexer": "ipython3",
   "version": "3.7.6"
  }
 },
 "nbformat": 4,
 "nbformat_minor": 4
}
